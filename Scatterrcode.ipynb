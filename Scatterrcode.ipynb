{
 "cells": [
  {
   "cell_type": "raw",
   "metadata": {},
   "source": [
    "import pandas as pd\n",
    "import matplotlib.pyplot as plt\n",
    "df = pd.read_csv(\"https://covid.ourworldindata.org/data/owid-covid-data.csv\")"
   ]
  },
  {
   "cell_type": "markdown",
   "metadata": {},
   "source": [
    "world = df[df['location']=='World']\n",
    "world=world.iloc[:,[2,3,4,5,6,7]]\n",
    "world"
   ]
  },
  {
   "cell_type": "raw",
   "metadata": {},
   "source": [
    "# wo = pd.DataFrame()\n",
    "for i in range(1,6*(10**6),10**6):\n",
    "    wo = wo.append(t[t['total_cases']>i].head(1))\n",
    "wo"
   ]
  },
  {
   "cell_type": "raw",
   "metadata": {},
   "source": [
    "plt.figure(figsize=(6,6))\n",
    "plt.scatter(wo['total_cases'],wo['total_deaths'])\n",
    "plt.xlabel(\"Total Number of Cases(in millions)\")\n",
    "plt.ylabel(\"Total Number of Deaths\")"
   ]
  },
  {
   "cell_type": "markdown",
   "metadata": {},
   "source": [
    "ger = df[df['location']==\"Germany\"]\n",
    "gerso = pd.DataFrame()\n",
    "for i in range(1,190000,30000):\n",
    "    gerso = gerso.append(ger[ger['total_cases']>i].head(1))\n",
    "gerso= gerso.iloc[:,[2,3,4,6]]\n",
    "gerso"
   ]
  },
  {
   "cell_type": "markdown",
   "metadata": {},
   "source": [
    "spain = df[df['location']==\"Spain\"]\n",
    "spainso = pd.DataFrame()\n",
    "for i in range(1,250000,30000):\n",
    "    spainso = spainso.append(spain[spain['total_cases']>i].head(1))\n",
    "spainso= spainso.iloc[:,[2,3,4,6]]\n",
    "spainso"
   ]
  },
  {
   "cell_type": "markdown",
   "metadata": {},
   "source": [
    "plt.figure(figsize=(5,5))\n",
    "plt.scatter(spainso['total_cases'],spainso['total_deaths'])\n",
    "plt.scatter(gerso['total_cases'],gerso['total_deaths'])\n",
    "plt.xlabel(\"Total Number of Cases\")\n",
    "plt.ylabel(\"Total Number of Deaths\")\n",
    "plt.legend([\"Spain\",\"Germany\"])"
   ]
  },
  {
   "cell_type": "code",
   "execution_count": null,
   "metadata": {},
   "outputs": [],
   "source": []
  }
 ],
 "metadata": {
  "kernelspec": {
   "display_name": "Python 3",
   "language": "python",
   "name": "python3"
  },
  "language_info": {
   "codemirror_mode": {
    "name": "ipython",
    "version": 3
   },
   "file_extension": ".py",
   "mimetype": "text/x-python",
   "name": "python",
   "nbconvert_exporter": "python",
   "pygments_lexer": "ipython3",
   "version": "3.7.1"
  }
 },
 "nbformat": 4,
 "nbformat_minor": 4
}
